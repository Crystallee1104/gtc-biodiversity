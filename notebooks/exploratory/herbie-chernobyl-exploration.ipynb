{
 "metadata": {
  "language_info": {
   "codemirror_mode": {
    "name": "ipython",
    "version": 3
   },
   "file_extension": ".py",
   "mimetype": "text/x-python",
   "name": "python",
   "nbconvert_exporter": "python",
   "pygments_lexer": "ipython3",
   "version": "3.8.6-final"
  },
  "orig_nbformat": 2,
  "kernelspec": {
   "name": "python38664bitf6a0caf0136e4826a085e3f20d9cebfc",
   "display_name": "Python 3.8.6 64-bit",
   "language": "python"
  }
 },
 "nbformat": 4,
 "nbformat_minor": 2,
 "cells": [
  {
   "cell_type": "code",
   "execution_count": 41,
   "metadata": {},
   "outputs": [],
   "source": [
    "import geopandas as gpd\n",
    "import networkx as nx\n",
    "from src.constants import GWS_DATA_DIR\n",
    "veg_data = gpd.read_file(GWS_DATA_DIR / \"chernobyl_habitat_data\" / \"Vegetation_mape.shp\")"
   ]
  },
  {
   "cell_type": "code",
   "execution_count": 42,
   "metadata": {},
   "outputs": [
    {
     "output_type": "execute_result",
     "data": {
      "text/plain": [
       "       Vegetation       AREA  \\\n",
       "0               1   24.85380   \n",
       "1               1    7.91757   \n",
       "2               1    7.86063   \n",
       "3               1   10.45270   \n",
       "4               1    7.52688   \n",
       "...           ...        ...   \n",
       "14905          77    9.88831   \n",
       "14906          77    5.99406   \n",
       "14907          77    9.59274   \n",
       "14908          77   13.83560   \n",
       "14909          77  561.06600   \n",
       "\n",
       "                                                geometry  \n",
       "0      POLYGON Z ((547927.772 5710698.315 0.000, 5479...  \n",
       "1      POLYGON Z ((550978.781 5711148.814 0.000, 5510...  \n",
       "2      POLYGON Z ((594252.852 5711098.250 0.000, 5940...  \n",
       "3      POLYGON Z ((595635.535 5712690.988 0.000, 5956...  \n",
       "4      POLYGON Z ((595986.627 5712815.878 0.000, 5960...  \n",
       "...                                                  ...  \n",
       "14905  POLYGON Z ((585295.961 5773864.611 0.000, 5854...  \n",
       "14906  POLYGON Z ((588179.310 5773408.130 0.000, 5882...  \n",
       "14907  POLYGON Z ((575722.551 5775285.145 0.000, 5757...  \n",
       "14908  POLYGON Z ((576956.096 5775194.964 0.000, 5770...  \n",
       "14909  POLYGON Z ((604303.798 5777452.327 0.000, 6043...  \n",
       "\n",
       "[14910 rows x 3 columns]"
      ],
      "text/html": "<div>\n<style scoped>\n    .dataframe tbody tr th:only-of-type {\n        vertical-align: middle;\n    }\n\n    .dataframe tbody tr th {\n        vertical-align: top;\n    }\n\n    .dataframe thead th {\n        text-align: right;\n    }\n</style>\n<table border=\"1\" class=\"dataframe\">\n  <thead>\n    <tr style=\"text-align: right;\">\n      <th></th>\n      <th>Vegetation</th>\n      <th>AREA</th>\n      <th>geometry</th>\n    </tr>\n  </thead>\n  <tbody>\n    <tr>\n      <th>0</th>\n      <td>1</td>\n      <td>24.85380</td>\n      <td>POLYGON Z ((547927.772 5710698.315 0.000, 5479...</td>\n    </tr>\n    <tr>\n      <th>1</th>\n      <td>1</td>\n      <td>7.91757</td>\n      <td>POLYGON Z ((550978.781 5711148.814 0.000, 5510...</td>\n    </tr>\n    <tr>\n      <th>2</th>\n      <td>1</td>\n      <td>7.86063</td>\n      <td>POLYGON Z ((594252.852 5711098.250 0.000, 5940...</td>\n    </tr>\n    <tr>\n      <th>3</th>\n      <td>1</td>\n      <td>10.45270</td>\n      <td>POLYGON Z ((595635.535 5712690.988 0.000, 5956...</td>\n    </tr>\n    <tr>\n      <th>4</th>\n      <td>1</td>\n      <td>7.52688</td>\n      <td>POLYGON Z ((595986.627 5712815.878 0.000, 5960...</td>\n    </tr>\n    <tr>\n      <th>...</th>\n      <td>...</td>\n      <td>...</td>\n      <td>...</td>\n    </tr>\n    <tr>\n      <th>14905</th>\n      <td>77</td>\n      <td>9.88831</td>\n      <td>POLYGON Z ((585295.961 5773864.611 0.000, 5854...</td>\n    </tr>\n    <tr>\n      <th>14906</th>\n      <td>77</td>\n      <td>5.99406</td>\n      <td>POLYGON Z ((588179.310 5773408.130 0.000, 5882...</td>\n    </tr>\n    <tr>\n      <th>14907</th>\n      <td>77</td>\n      <td>9.59274</td>\n      <td>POLYGON Z ((575722.551 5775285.145 0.000, 5757...</td>\n    </tr>\n    <tr>\n      <th>14908</th>\n      <td>77</td>\n      <td>13.83560</td>\n      <td>POLYGON Z ((576956.096 5775194.964 0.000, 5770...</td>\n    </tr>\n    <tr>\n      <th>14909</th>\n      <td>77</td>\n      <td>561.06600</td>\n      <td>POLYGON Z ((604303.798 5777452.327 0.000, 6043...</td>\n    </tr>\n  </tbody>\n</table>\n<p>14910 rows × 3 columns</p>\n</div>"
     },
     "metadata": {},
     "execution_count": 42
    }
   ],
   "source": [
    "veg_data"
   ]
  },
  {
   "cell_type": "code",
   "execution_count": 43,
   "metadata": {},
   "outputs": [],
   "source": [
    "# WARNING: this cell takes a while to run, is better on sci 3, 6, or 8\n",
    "# It took about 25 minutes to run on sci 6 - the time consuming parts are `touches` and `overlaps`\n",
    "graph_dict = {}\n",
    "G = nx.Graph() # init graph\n",
    "for index, row in veg_data.iterrows():\n",
    "    # find all polygons which touch the borders of this one\n",
    "    neighbours = set(veg_data[veg_data.geometry.touches(row['geometry'])].index)\n",
    "    # and all polygons which overlap with this one, to account for discrepancies\n",
    "    overlap = set(veg_data[veg_data.geometry.overlaps(row['geometry'])].index)\n",
    "\n",
    "    neighbours = sorted(list(set.union(neighbours, overlap)))\n",
    "    # the dict maps polygon indices in veg_data to a sorted list of neighbouring polygon indices\n",
    "    graph_dict[index] = neighbours\n",
    "    # add each polygon as a node to the graph, with a single attribute of the landcover class\n",
    "    G.add_node(index, landcover=row['Vegetation'])"
   ]
  },
  {
   "cell_type": "code",
   "execution_count": 44,
   "metadata": {},
   "outputs": [],
   "source": [
    "# iterate through the dict and add all edges between neighbouring polygons\n",
    "for polygon_id, neighbours in graph_dict.items():\n",
    "    for neighbour_id in neighbours:\n",
    "        G.add_edge(polygon_id, neighbour_id)"
   ]
  },
  {
   "cell_type": "code",
   "execution_count": 47,
   "metadata": {},
   "outputs": [
    {
     "output_type": "stream",
     "name": "stdout",
     "text": [
      "14910 39562\n"
     ]
    }
   ],
   "source": [
    "print(G.number_of_nodes(), G.number_of_edges())"
   ]
  },
  {
   "cell_type": "code",
   "execution_count": 56,
   "metadata": {},
   "outputs": [
    {
     "output_type": "stream",
     "name": "stdout",
     "text": [
      "[434, 7735, 10852]\n[0, 2863, 6884, 7735, 8348, 11209]\n"
     ]
    }
   ],
   "source": [
    "# list of nodes adjacent to 0 and 434\n",
    "print(list(G.adj[0]))\n",
    "print(list(G.adj[434]))"
   ]
  }
 ]
}