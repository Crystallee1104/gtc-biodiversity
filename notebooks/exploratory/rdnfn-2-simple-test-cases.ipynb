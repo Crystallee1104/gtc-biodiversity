{
 "cells": [
  {
   "cell_type": "code",
   "execution_count": 1,
   "id": "tropical-essence",
   "metadata": {},
   "outputs": [],
   "source": [
    "# Creating simple vector and raster test cases"
   ]
  },
  {
   "cell_type": "code",
   "execution_count": 1,
   "id": "broken-print",
   "metadata": {},
   "outputs": [
    {
     "data": {
      "text/plain": [
       "<AxesSubplot:>"
      ]
     },
     "execution_count": 1,
     "metadata": {},
     "output_type": "execute_result"
    },
    {
     "data": {
      "image/png": "[encoded data removed]",
      "text/plain": [
       "<Figure size 432x288 with 1 Axes>"
      ]
     },
     "metadata": {
      "needs_background": "light"
     },
     "output_type": "display_data"
    }
   ],
   "source": [
    "import geopandas as gpd\n",
    "import shapely\n",
    "\n",
    "def get_square_row(num_squares=2, translation=(1,0), square_side_len=1, origin=(0,0)):\n",
    "    \"\"\"\n",
    "    Creates a row of squares with side length `square_side_len`, \n",
    "    each square is translated to the previous by `translation`.\n",
    "    Starts with the bottom left corner of first square at\n",
    "    `origin`. Returns gpd GeoDataFrame with square polygons.\n",
    "    \"\"\"\n",
    "    \n",
    "    out_df = gpd.GeoDataFrame(columns=['id', 'geometry', 'area'])\n",
    "    \n",
    "    square_coords = [(0,0), (1,0), (1,1), (0,1), (0,0)]\n",
    "    # scaling up by square_side_len\n",
    "    square_coords = [tuple([coord * square_side_len for coord in coords]) for coords in square_coords]\n",
    "    # setting to origin coords\n",
    "    square_coords = [[sum(x) for x in zip(coords,origin)] for coords in square_coords]\n",
    "    \n",
    "    square = shapely.geometry.Polygon(square_coords)\n",
    "    \n",
    "    for i in range(num_squares):\n",
    "        xoff = i*translation[0]\n",
    "        yoff = i*translation[1]\n",
    "        tmp_square = shapely.affinity.translate(square, xoff=xoff, yoff=yoff)\n",
    "        out_df.loc[i] = [i, tmp_square, tmp_square.area]\n",
    "        \n",
    "    return out_df\n",
    "    \n",
    "get_square_row(num_squares=3, translation=(1.5,1.5), square_side_len=1, origin=(0,0)).plot()"
   ]
  },
  {
   "cell_type": "code",
   "execution_count": null,
   "id": "local-canberra",
   "metadata": {},
   "outputs": [],
   "source": []
  }
 ],
 "metadata": {
  "kernelspec": {
   "display_name": "Python 3",
   "language": "python",
   "name": "python3"
  },
  "language_info": {
   "codemirror_mode": {
    "name": "ipython",
    "version": 3
   },
   "file_extension": ".py",
   "mimetype": "text/x-python",
   "name": "python",
   "nbconvert_exporter": "python",
   "pygments_lexer": "ipython3",
   "version": "3.8.6"
  }
 },
 "nbformat": 4,
 "nbformat_minor": 5
}
