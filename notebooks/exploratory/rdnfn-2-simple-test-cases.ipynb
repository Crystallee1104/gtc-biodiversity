{
 "cells": [
  {
   "cell_type": "code",
   "execution_count": null,
   "id": "sized-crest",
   "metadata": {},
   "outputs": [],
   "source": [
    "# Creating simple vector and raster test cases"
   ]
  },
  {
   "cell_type": "code",
   "execution_count": null,
   "id": "periodic-montana",
   "metadata": {},
   "outputs": [],
   "source": [
    "import geopandas as gpd\n",
    "import shapely\n",
    "\n",
    "def get_square_row(num_squares=2, translation=(1,0), square_side_len=1, origin=(0,0)):\n",
    "    \"\"\"\n",
    "    Creates a row of squares with side length `square_side_len`, \n",
    "    each square is translated to the previous by `translation`.\n",
    "    Starts with the bottom left corner of first square at\n",
    "    `origin`. Returns gpd GeoDataFrame with square polygons.\n",
    "    \"\"\"\n",
    "    \n",
    "    out_df = gpd.GeoDataFrame(columns=['id', 'geometry', 'area'])\n",
    "    \n",
    "    # setting up the coordinates of first square\n",
    "    square_coords = [(0,0), (1,0), (1,1), (0,1), (0,0)]\n",
    "    # scaling up by square_side_len\n",
    "    square_coords = [tuple([coord * square_side_len for coord in coords]) for coords in square_coords]\n",
    "    # setting to origin coords\n",
    "    square_coords = [[sum(x) for x in zip(coords,origin)] for coords in square_coords]\n",
    "    \n",
    "    square = shapely.geometry.Polygon(square_coords)\n",
    "    \n",
    "    # creating the row of squares\n",
    "    for i in range(num_squares):\n",
    "        xoff = i*translation[0]\n",
    "        yoff = i*translation[1]\n",
    "        tmp_square = shapely.affinity.translate(square, xoff=xoff, yoff=yoff)\n",
    "        out_df.loc[i] = [i, tmp_square, tmp_square.area]\n",
    "        \n",
    "    return out_df\n",
    "    \n",
    "test_df = get_square_row(num_squares=5, translation=(1,1), \n",
    "                         square_side_len=1, origin=(0,0))"
   ]
  },
  {
   "cell_type": "code",
   "execution_count": null,
   "id": "located-crazy",
   "metadata": {},
   "outputs": [],
   "source": [
    "test_df.plot()"
   ]
  },
  {
   "cell_type": "code",
   "execution_count": null,
   "id": "empirical-tourist",
   "metadata": {},
   "outputs": [],
   "source": [
    "import geopandas as gpd\n",
    "from shapely.strtree import STRtree\n",
    "import networkx as nx\n",
    "\n",
    "def create_graph(gpd_df, attributes=None):\n",
    "    \"\"\" Creates graph from GeoDataFrame.\n",
    "    \"\"\"\n",
    "    \n",
    "    # If no attribute list is given, all\n",
    "    # columns in gpd_df are used\n",
    "    if not attributes:\n",
    "        attributes = test_df.columns.tolist()\n",
    "    \n",
    "    geom = gpd_df.geometry.tolist()\n",
    "    # build dict mapping hashable unique object ids for each polygon to their index in geom\n",
    "    id_dict = {id(poly):index for index, poly in enumerate(geom)}\n",
    "    # build Rtree from geometry\n",
    "    tree = STRtree(geom)\n",
    "\n",
    "    # Combining this with graph\n",
    "    graph_dict = {}\n",
    "    G = nx.Graph()\n",
    "    for index, polygon in enumerate(geom):\n",
    "        # find the indexes of all polygons which touch the borders of or overlap with this one\n",
    "        neighbours = [id_dict[id(nbr)] for nbr in tree.query(polygon) if nbr.touches(polygon) or nbr.overlaps(polygon)]\n",
    "        # this dict maps polygon indices in gpd_df to a list of neighbouring polygon indices\n",
    "        graph_dict[index] = neighbours\n",
    "        row = gpd_df.loc[index]\n",
    "        # getting dict of column values in row\n",
    "        row_attributes = dict(zip(attributes,[row[attr] for attr in attributes]))\n",
    "        # add each polygon as a node to the graph with all attributes\n",
    "        G.add_node(index, **row_attributes)\n",
    "\n",
    "    # iterate through the dict and add all edges between neighbouring polygons\n",
    "    for polygon_id, neighbours in graph_dict.items():\n",
    "        for neighbour_id in neighbours:\n",
    "            G.add_edge(polygon_id, neighbour_id)\n",
    "            \n",
    "    return G\n",
    "            \n",
    "graph = create_graph(test_df)"
   ]
  },
  {
   "cell_type": "code",
   "execution_count": null,
   "id": "young-feelings",
   "metadata": {},
   "outputs": [],
   "source": [
    "print(graph.number_of_nodes(), graph.number_of_edges())"
   ]
  },
  {
   "cell_type": "code",
   "execution_count": null,
   "id": "partial-fields",
   "metadata": {},
   "outputs": [],
   "source": [
    "nx.draw(graph)"
   ]
  },
  {
   "cell_type": "code",
   "execution_count": null,
   "id": "rapid-criterion",
   "metadata": {},
   "outputs": [],
   "source": [
    "graph.nodes[4]"
   ]
  },
  {
   "cell_type": "code",
   "execution_count": null,
   "id": "japanese-programmer",
   "metadata": {},
   "outputs": [],
   "source": []
  }
 ],
 "metadata": {
  "kernelspec": {
   "display_name": "Python 3",
   "language": "python",
   "name": "python3"
  },
  "language_info": {
   "codemirror_mode": {
    "name": "ipython",
    "version": 3
   },
   "file_extension": ".py",
   "mimetype": "text/x-python",
   "name": "python",
   "nbconvert_exporter": "python",
   "pygments_lexer": "ipython3",
   "version": "3.8.6"
  }
 },
 "nbformat": 4,
 "nbformat_minor": 5
}
