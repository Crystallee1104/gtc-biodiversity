{
 "cells": [
  {
   "cell_type": "markdown",
   "id": "prerequisite-complexity",
   "metadata": {},
   "source": [
    "# Habitat Graphs Demo in Polesia Region near Chernobyl\n",
    "\n",
    "This notebook creates a graph for the Polesia land cover data and a subgraph for a (imaginary) lynx habitat."
   ]
  },
  {
   "cell_type": "code",
   "execution_count": null,
   "id": "turkish-mitchell",
   "metadata": {},
   "outputs": [],
   "source": [
    "%load_ext autoreload\n",
    "%autoreload 2\n",
    "%config IPCompleter.greedy=True"
   ]
  },
  {
   "cell_type": "code",
   "execution_count": null,
   "id": "breathing-reserve",
   "metadata": {},
   "outputs": [],
   "source": [
    "from src.data_loading import test_data, chernobyl\n",
    "from src.models import graph_tools, visualisation"
   ]
  },
  {
   "cell_type": "code",
   "execution_count": null,
   "id": "greatest-rubber",
   "metadata": {},
   "outputs": [],
   "source": [
    "%%time\n",
    "gdf = chernobyl.get_bio_data()"
   ]
  },
  {
   "cell_type": "code",
   "execution_count": null,
   "id": "critical-breakdown",
   "metadata": {},
   "outputs": [],
   "source": [
    "%%time\n",
    "graph = graph_tools.create_nx_graph(gdf)"
   ]
  },
  {
   "cell_type": "code",
   "execution_count": null,
   "id": "enclosed-converter",
   "metadata": {},
   "outputs": [],
   "source": [
    "visualisation.create_graph_visualisation(\n",
    "    polygon_gdf=gdf,\n",
    "    color_column='Eunis_name',\n",
    "    graph=graph,\n",
    "    name = \"polesia_bio_data\"\n",
    "    folium_tile_list=['OpenStreetMap','cartodbpositron','esri'],\n",
    "    add_layer_control=True\n",
    ")"
   ]
  },
  {
   "cell_type": "markdown",
   "id": "julian-design",
   "metadata": {},
   "source": [
    "# Subgraph"
   ]
  },
  {
   "cell_type": "code",
   "execution_count": null,
   "id": "civilian-status",
   "metadata": {},
   "outputs": [],
   "source": [
    "# gdf.Eunis_name.value_counts()"
   ]
  },
  {
   "cell_type": "code",
   "execution_count": null,
   "id": "polished-syria",
   "metadata": {},
   "outputs": [],
   "source": [
    "# Imaginary lynx habitat\n",
    "habitat = ['Mixed Scots pine-birch woodland',\n",
    "           'Subcontinental moorgrass Scots pine forests',\n",
    "           'Subcontinental moss Scots pine forests']\n",
    "subgraph_gdf = gdf.loc[gdf['Eunis_name'].isin(habitat)].reset_index()"
   ]
  },
  {
   "cell_type": "code",
   "execution_count": null,
   "id": "prescribed-filling",
   "metadata": {},
   "outputs": [],
   "source": [
    "subgraph = graph_tools.create_nx_graph(subgraph_gdf)"
   ]
  },
  {
   "cell_type": "code",
   "execution_count": null,
   "id": "distinguished-quarterly",
   "metadata": {},
   "outputs": [],
   "source": [
    "visualisation.create_folium_map(\n",
    "    polygon_gdf=subgraph_gdf,\n",
    "    color_column='Eunis_name',\n",
    "    graph=subgraph,\n",
    "    name = \"habitat\"\n",
    "    folium_tile_list=['OpenStreetMap','cartodbpositron','esri']\n",
    ")"
   ]
  },
  {
   "cell_type": "code",
   "execution_count": null,
   "id": "fifth-guidance",
   "metadata": {},
   "outputs": [],
   "source": []
  },
  {
   "cell_type": "code",
   "execution_count": null,
   "id": "hired-naples",
   "metadata": {},
   "outputs": [],
   "source": []
  }
 ],
 "metadata": {
  "kernelspec": {
   "display_name": "Python 3",
   "language": "python",
   "name": "python3"
  },
  "language_info": {
   "codemirror_mode": {
    "name": "ipython",
    "version": 3
   },
   "file_extension": ".py",
   "mimetype": "text/x-python",
   "name": "python",
   "nbconvert_exporter": "python",
   "pygments_lexer": "ipython3",
   "version": "3.8.6"
  }
 },
 "nbformat": 4,
 "nbformat_minor": 5
}
