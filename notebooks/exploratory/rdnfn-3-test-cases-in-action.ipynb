{
 "cells": [
  {
   "cell_type": "code",
   "execution_count": 1,
   "id": "swedish-velvet",
   "metadata": {},
   "outputs": [],
   "source": [
    "%load_ext autoreload\n",
    "%autoreload 2\n",
    "%config IPCompleter.greedy=True"
   ]
  },
  {
   "cell_type": "code",
   "execution_count": 2,
   "id": "enabling-cause",
   "metadata": {},
   "outputs": [],
   "source": [
    "from src.data_loading import test_data, chernobyl\n",
    "from src.models import graph_tools, visualisation"
   ]
  },
  {
   "cell_type": "code",
   "execution_count": 3,
   "id": "sacred-lecture",
   "metadata": {},
   "outputs": [],
   "source": [
    "test_gdf = test_data.get_polygon_gdf(\"chernobyl_squares_touching\")"
   ]
  },
  {
   "cell_type": "code",
   "execution_count": 4,
   "id": "sudden-heading",
   "metadata": {},
   "outputs": [
    {
     "name": "stderr",
     "output_type": "stream",
     "text": [
      "Creating nodes and finding neighbours: 100%|██████████| 2/2 [00:00<00:00, 2154.79it/s]\n",
      "Adding edges: 100%|██████████| 2/2 [00:00<00:00, 62137.84it/s]\n"
     ]
    }
   ],
   "source": [
    "test_graph = graph_tools.create_nx_graph(test_gdf)"
   ]
  },
  {
   "cell_type": "code",
   "execution_count": null,
   "id": "guided-mining",
   "metadata": {},
   "outputs": [],
   "source": [
    "visualisation.create_folium_map(polygon_gdf_list=[test_gdf],\n",
    "                      polygon_gdf_colour_col_list=['id'],\n",
    "                      graph_list=[test_graph],          \n",
    "                      folium_tile_list=['OpenStreetMap','esri'])"
   ]
  },
  {
   "cell_type": "code",
   "execution_count": 6,
   "id": "completed-baseball",
   "metadata": {},
   "outputs": [
    {
     "name": "stdout",
     "output_type": "stream",
     "text": [
      "CPU times: user 821 ms, sys: 132 ms, total: 953 ms\n",
      "Wall time: 2.5 s\n"
     ]
    }
   ],
   "source": [
    "%%time\n",
    "gdf = chernobyl.get_bio_data()"
   ]
  },
  {
   "cell_type": "code",
   "execution_count": 7,
   "id": "uniform-solomon",
   "metadata": {},
   "outputs": [
    {
     "name": "stderr",
     "output_type": "stream",
     "text": [
      "Creating nodes and finding neighbours: 100%|██████████| 13616/13616 [03:18<00:00, 68.65it/s] \n",
      "Adding edges: 100%|██████████| 13616/13616 [00:00<00:00, 150689.05it/s]"
     ]
    },
    {
     "name": "stdout",
     "output_type": "stream",
     "text": [
      "CPU times: user 3min 16s, sys: 1.71 s, total: 3min 18s\n",
      "Wall time: 3min 18s\n"
     ]
    },
    {
     "name": "stderr",
     "output_type": "stream",
     "text": [
      "\n"
     ]
    }
   ],
   "source": [
    "%%time\n",
    "graph = graph_tools.create_nx_graph(gdf)"
   ]
  },
  {
   "cell_type": "code",
   "execution_count": null,
   "id": "competitive-transcript",
   "metadata": {},
   "outputs": [],
   "source": [
    "visualisation.create_folium_map(polygon_gdf_list=[gdf],\n",
    "                      polygon_gdf_colour_col_list=['Eunis_name'],\n",
    "                      graph_list=[graph],          \n",
    "                      folium_tile_list=['OpenStreetMap','esri'])"
   ]
  },
  {
   "cell_type": "code",
   "execution_count": null,
   "id": "announced-tutorial",
   "metadata": {},
   "outputs": [],
   "source": []
  }
 ],
 "metadata": {
  "kernelspec": {
   "display_name": "Python 3",
   "language": "python",
   "name": "python3"
  },
  "language_info": {
   "codemirror_mode": {
    "name": "ipython",
    "version": 3
   },
   "file_extension": ".py",
   "mimetype": "text/x-python",
   "name": "python",
   "nbconvert_exporter": "python",
   "pygments_lexer": "ipython3",
   "version": "3.8.6"
  }
 },
 "nbformat": 4,
 "nbformat_minor": 5
}
