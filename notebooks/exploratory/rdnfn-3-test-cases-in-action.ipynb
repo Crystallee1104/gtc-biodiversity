{
 "cells": [
  {
   "cell_type": "code",
   "execution_count": null,
   "id": "understanding-liability",
   "metadata": {},
   "outputs": [],
   "source": [
    "%load_ext autoreload\n",
    "%autoreload 2\n",
    "%config IPCompleter.greedy=True"
   ]
  },
  {
   "cell_type": "code",
   "execution_count": null,
   "id": "announced-quarter",
   "metadata": {},
   "outputs": [],
   "source": [
    "from src.data_loading import test_data, chernobyl\n",
    "from src.models import graph_tools, visualisation"
   ]
  },
  {
   "cell_type": "code",
   "execution_count": null,
   "id": "cooked-malaysia",
   "metadata": {},
   "outputs": [],
   "source": [
    "test_gdf = test_data.get_polygon_gdf(\"chernobyl_squares_touching\")"
   ]
  },
  {
   "cell_type": "code",
   "execution_count": null,
   "id": "numerical-wrapping",
   "metadata": {},
   "outputs": [],
   "source": [
    "test_graph = graph_tools.create_nx_graph(test_gdf)"
   ]
  },
  {
   "cell_type": "code",
   "execution_count": null,
   "id": "destroyed-determination",
   "metadata": {},
   "outputs": [],
   "source": [
    "visualisation.create_folium_map(polygon_gdf_list=[test_gdf],\n",
    "                      polygon_gdf_colour_col_list=['id'],\n",
    "                      graph_list=[test_graph],          \n",
    "                      folium_tile_list=['OpenStreetMap','esri'])"
   ]
  },
  {
   "cell_type": "code",
   "execution_count": null,
   "id": "every-digit",
   "metadata": {},
   "outputs": [],
   "source": [
    "%%time\n",
    "gdf = chernobyl.get_bio_data()"
   ]
  },
  {
   "cell_type": "code",
   "execution_count": null,
   "id": "powerful-principle",
   "metadata": {},
   "outputs": [],
   "source": [
    "%%time\n",
    "graph = graph_tools.create_nx_graph(gdf)"
   ]
  },
  {
   "cell_type": "code",
   "execution_count": null,
   "id": "lesser-purse",
   "metadata": {},
   "outputs": [],
   "source": [
    "visualisation.create_folium_map(polygon_gdf_list=[gdf],\n",
    "                      polygon_gdf_colour_col_list=['Eunis_name'],\n",
    "                      graph_list=[graph],          \n",
    "                      folium_tile_list=['OpenStreetMap','esri'])"
   ]
  },
  {
   "cell_type": "code",
   "execution_count": null,
   "id": "improved-michael",
   "metadata": {},
   "outputs": [],
   "source": []
  }
 ],
 "metadata": {
  "kernelspec": {
   "display_name": "Python 3",
   "language": "python",
   "name": "python3"
  },
  "language_info": {
   "codemirror_mode": {
    "name": "ipython",
    "version": 3
   },
   "file_extension": ".py",
   "mimetype": "text/x-python",
   "name": "python",
   "nbconvert_exporter": "python",
   "pygments_lexer": "ipython3",
   "version": "3.8.6"
  }
 },
 "nbformat": 4,
 "nbformat_minor": 5
}
