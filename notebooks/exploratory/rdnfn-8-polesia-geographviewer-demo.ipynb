{
 "cells": [
  {
   "cell_type": "code",
   "execution_count": null,
   "id": "looking-enlargement",
   "metadata": {},
   "outputs": [],
   "source": [
    "%load_ext autoreload\n",
    "%autoreload 2\n",
    "%config IPCompleter.greedy=True"
   ]
  },
  {
   "cell_type": "code",
   "execution_count": null,
   "id": "brutal-pocket",
   "metadata": {},
   "outputs": [],
   "source": [
    "from src.data_loading import test_data, jasmin\n",
    "from src.models import geograph, visualisation\n",
    "from src.constants import PREFERRED_CRS"
   ]
  },
  {
   "cell_type": "code",
   "execution_count": null,
   "id": "fatal-following",
   "metadata": {},
   "outputs": [],
   "source": [
    "gdf = jasmin.get_polesia_data()\n",
    "minx, miny, maxx, maxy = gdf.total_bounds\n",
    "square_len = 20000\n",
    "gdf = gdf.cx[ minx:minx+square_len  ,  miny:miny+square_len]\n",
    "gdf.head(5)"
   ]
  },
  {
   "cell_type": "code",
   "execution_count": null,
   "id": "cubic-paris",
   "metadata": {},
   "outputs": [],
   "source": [
    "graph = geograph.GeoGraph(gdf, crs=PREFERRED_CRS, columns_to_rename={\"Eunis_name\":\"class_label\",\"AREA\":\"area\"})"
   ]
  },
  {
   "cell_type": "code",
   "execution_count": null,
   "id": "moderate-wisdom",
   "metadata": {},
   "outputs": [],
   "source": [
    "viewer = visualisation.GeoGraphViewer()\n",
    "viewer.add_graph(graph, name='Polesia data')\n",
    "#viewer.add_graph(graph2, name='another_graph')\n",
    "viewer.add_widgets()\n",
    "viewer.add_hover_widget(graph_name='Polesia data')\n",
    "viewer"
   ]
  },
  {
   "cell_type": "code",
   "execution_count": null,
   "id": "voluntary-scheduling",
   "metadata": {},
   "outputs": [],
   "source": [
    "viewer.log"
   ]
  },
  {
   "cell_type": "code",
   "execution_count": null,
   "id": "detailed-worship",
   "metadata": {},
   "outputs": [],
   "source": []
  }
 ],
 "metadata": {
  "kernelspec": {
   "display_name": "Python 3",
   "language": "python",
   "name": "python3"
  },
  "language_info": {
   "codemirror_mode": {
    "name": "ipython",
    "version": 3
   },
   "file_extension": ".py",
   "mimetype": "text/x-python",
   "name": "python",
   "nbconvert_exporter": "python",
   "pygments_lexer": "ipython3",
   "version": "3.8.6"
  }
 },
 "nbformat": 4,
 "nbformat_minor": 5
}
