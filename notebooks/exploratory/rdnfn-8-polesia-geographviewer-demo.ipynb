{
 "cells": [
  {
   "cell_type": "code",
   "execution_count": null,
   "id": "otherwise-mountain",
   "metadata": {},
   "outputs": [],
   "source": [
    "%load_ext autoreload\n",
    "%autoreload 2\n",
    "%config IPCompleter.greedy=True"
   ]
  },
  {
   "cell_type": "code",
   "execution_count": null,
   "id": "hairy-conversion",
   "metadata": {},
   "outputs": [],
   "source": [
    "from src.data_loading import test_data, jasmin\n",
    "from src.models import geograph, visualisation\n",
    "from src.constants import PREFERRED_CRS"
   ]
  },
  {
   "cell_type": "code",
   "execution_count": null,
   "id": "fantastic-broadway",
   "metadata": {},
   "outputs": [],
   "source": [
    "gdf = jasmin.get_polesia_data()\n",
    "minx, miny, maxx, maxy = gdf.total_bounds\n",
    "square_len = 25000\n",
    "gdf = gdf.cx[ minx:minx+square_len  ,  miny:miny+square_len]\n",
    "gdf.head(5)"
   ]
  },
  {
   "cell_type": "code",
   "execution_count": null,
   "id": "tropical-witness",
   "metadata": {},
   "outputs": [],
   "source": [
    "graph = geograph.GeoGraph(gdf, crs=PREFERRED_CRS, columns_to_rename={\"Eunis_name\":\"class_label\",\"AREA\":\"area\"})"
   ]
  },
  {
   "cell_type": "code",
   "execution_count": null,
   "id": "informal-tourism",
   "metadata": {},
   "outputs": [],
   "source": [
    "pine_classes = [label for label in graph.df.class_label.unique() if 'pine' in label]\n",
    "pine_classes"
   ]
  },
  {
   "cell_type": "code",
   "execution_count": null,
   "id": "associate-conspiracy",
   "metadata": {},
   "outputs": [],
   "source": [
    "# Proposed distance from email: mobile (<100m), semi mobile (<25m) and sessile (<5m)\n",
    "graph.add_habitat('Sessile - pine', max_travel_distance=5, valid_classes=pine_classes)\n",
    "graph.add_habitat('Semi mobile - pine', max_travel_distance=25, valid_classes=pine_classes)\n",
    "graph.add_habitat('Mobile - pine', max_travel_distance=100, valid_classes=pine_classes)"
   ]
  },
  {
   "cell_type": "code",
   "execution_count": null,
   "id": "jewish-ethiopia",
   "metadata": {},
   "outputs": [],
   "source": [
    "viewer = visualisation.GeoGraphViewer()\n",
    "viewer.add_graph(graph, name='Polesia data')\n",
    "#viewer.add_graph(graph2, name='another_graph')\n",
    "viewer.add_widgets()\n",
    "viewer.add_hover_widget(graph_name='Polesia data')\n",
    "viewer"
   ]
  },
  {
   "cell_type": "markdown",
   "id": "covered-shoot",
   "metadata": {},
   "source": [
    "### Things to consider in GeoGraphViewer\n",
    "- How `max_travel_distance` affects the number of components"
   ]
  },
  {
   "cell_type": "code",
   "execution_count": null,
   "id": "regulated-tamil",
   "metadata": {},
   "outputs": [],
   "source": [
    "viewer.log"
   ]
  },
  {
   "cell_type": "code",
   "execution_count": null,
   "id": "proprietary-harbor",
   "metadata": {},
   "outputs": [],
   "source": []
  }
 ],
 "metadata": {
  "kernelspec": {
   "display_name": "Python 3",
   "language": "python",
   "name": "python3"
  },
  "language_info": {
   "codemirror_mode": {
    "name": "ipython",
    "version": 3
   },
   "file_extension": ".py",
   "mimetype": "text/x-python",
   "name": "python",
   "nbconvert_exporter": "python",
   "pygments_lexer": "ipython3",
   "version": "3.8.6"
  }
 },
 "nbformat": 4,
 "nbformat_minor": 5
}
