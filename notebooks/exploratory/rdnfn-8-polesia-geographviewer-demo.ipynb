{
 "cells": [
  {
   "cell_type": "markdown",
   "id": "casual-posting",
   "metadata": {},
   "source": [
    "# Introduction to `GeoGraph` - 4 March 2021"
   ]
  },
  {
   "cell_type": "markdown",
   "id": "federal-adobe",
   "metadata": {},
   "source": [
    "**Recent progress:**\n",
    "- **WS1 - ongoing:** habitat classification\n",
    "  - First results using XGBoost (See video below)\n",
    "  - Additional work: Infrared, UNet\n",
    "- **WS2 - completed:** fragmentation baseline finished (Show summary notebook)\n",
    "- **WS3&4 - ongoing:** building GeoGraph platform\n",
    "  - Completed: loading & accessing, habitats, basic visualisation, node identification\n",
    "  - Ongoing: timeline, advanced visualisation, metrics"
   ]
  },
  {
   "cell_type": "code",
   "execution_count": null,
   "id": "guilty-samuel",
   "metadata": {},
   "outputs": [],
   "source": [
    "from IPython.display import Video, HTML\n",
    "display(HTML((\"Video: each of the top 4 panels is an RGB image - so that there are 12 input\"\n",
    "         \" bands in total. The last 5 years of the video is the test set\"\n",
    "         \" the rest of it was in the training set\")))\n",
    "Video(\"exalted-dust-26_joint_val.mp4\", width=600)"
   ]
  },
  {
   "cell_type": "markdown",
   "id": "genetic-commerce",
   "metadata": {},
   "source": [
    "---\n",
    "\n",
    "## 0. Setup and Loading package"
   ]
  },
  {
   "cell_type": "code",
   "execution_count": null,
   "id": "constant-patch",
   "metadata": {},
   "outputs": [],
   "source": [
    "from src.data_loading import jasmin\n",
    "from src.models import geograph, visualisation\n",
    "from src.constants import PREFERRED_CRS"
   ]
  },
  {
   "cell_type": "markdown",
   "id": "laughing-emphasis",
   "metadata": {},
   "source": [
    "---\n",
    "\n",
    "## 1. Loading Data"
   ]
  },
  {
   "cell_type": "code",
   "execution_count": null,
   "id": "trained-bahamas",
   "metadata": {},
   "outputs": [],
   "source": [
    "# Loading Polesia data set from shared Jasmin folder\n",
    "gdf = jasmin.get_polesia_data()\n",
    "\n",
    "# Looking at south-west corner of data\n",
    "# Choosen because are of wilderness as discussed\n",
    "minx, miny, maxx, maxy = gdf.total_bounds\n",
    "square_len = 25000\n",
    "\n",
    "gdf = gdf.cx[ minx:minx+square_len  ,  miny:miny+square_len]\n",
    "\n",
    "print(\"Number of patches in region of interest:\", len(gdf))\n",
    "gdf.head(5)"
   ]
  },
  {
   "cell_type": "markdown",
   "id": "informal-concept",
   "metadata": {},
   "source": [
    "---\n",
    "\n",
    "## 2. Creating `GeoGraph`"
   ]
  },
  {
   "cell_type": "code",
   "execution_count": null,
   "id": "clinical-traveler",
   "metadata": {},
   "outputs": [],
   "source": [
    "# Building the main graph structure\n",
    "\n",
    "graph = geograph.GeoGraph(gdf, \n",
    "                          crs=PREFERRED_CRS, \n",
    "                          columns_to_rename={\"Eunis_name\":\"class_label\",\"AREA\":\"area\"})"
   ]
  },
  {
   "cell_type": "markdown",
   "id": "continent-upset",
   "metadata": {},
   "source": [
    "---\n",
    "\n",
    "## 3. Creating Habitats"
   ]
  },
  {
   "cell_type": "code",
   "execution_count": null,
   "id": "sixth-plate",
   "metadata": {},
   "outputs": [],
   "source": [
    "# First selecting the classes that make up our habitat\n",
    "# We chose all classes with 'pine' in the name.\n",
    "pine_classes = [label for label in graph.df.class_label.unique() if 'pine' in label]\n",
    "pine_classes"
   ]
  },
  {
   "cell_type": "code",
   "execution_count": null,
   "id": "aging-holly",
   "metadata": {},
   "outputs": [],
   "source": [
    "# Proposed distance from email: mobile (<100m), semi mobile (<25m) and sessile (<5m)\n",
    "graph.add_habitat('Sessile (5m) - pine', \n",
    "                  max_travel_distance=5, \n",
    "                  valid_classes=pine_classes)\n",
    "\n",
    "graph.add_habitat('Semi mobile (25m) - pine', \n",
    "                  max_travel_distance=25, \n",
    "                  valid_classes=pine_classes)\n",
    "\n",
    "graph.add_habitat('Mobile (500m) - pine',\n",
    "                  max_travel_distance=500, \n",
    "                  valid_classes=pine_classes)"
   ]
  },
  {
   "cell_type": "markdown",
   "id": "olive-program",
   "metadata": {},
   "source": [
    "---\n",
    "\n",
    "## 4. Interactive Graph"
   ]
  },
  {
   "cell_type": "code",
   "execution_count": null,
   "id": "global-district",
   "metadata": {},
   "outputs": [],
   "source": [
    "viewer = visualisation.GeoGraphViewer()\n",
    "viewer.add_graph(graph, name='Polesia data')\n",
    "viewer.add_widgets()\n",
    "viewer.add_hover_widget()\n",
    "viewer"
   ]
  },
  {
   "cell_type": "code",
   "execution_count": null,
   "id": "bored-council",
   "metadata": {},
   "outputs": [],
   "source": [
    "viewer.log"
   ]
  },
  {
   "cell_type": "markdown",
   "id": "private-cherry",
   "metadata": {},
   "source": [
    "### Things to consider in GeoGraphViewer\n",
    "- How `max_travel_distance` affects the number of components in habitat"
   ]
  },
  {
   "cell_type": "markdown",
   "id": "norwegian-creator",
   "metadata": {},
   "source": [
    "## 5. Next Steps\n",
    "\n",
    "See questions doc..."
   ]
  },
  {
   "cell_type": "code",
   "execution_count": null,
   "id": "greater-attachment",
   "metadata": {},
   "outputs": [],
   "source": [
    "%load_ext autoreload\n",
    "%autoreload 2\n",
    "%config IPCompleter.greedy=True"
   ]
  },
  {
   "cell_type": "code",
   "execution_count": null,
   "id": "specialized-folks",
   "metadata": {},
   "outputs": [],
   "source": []
  }
 ],
 "metadata": {
  "kernelspec": {
   "display_name": "Python 3",
   "language": "python",
   "name": "python3"
  },
  "language_info": {
   "codemirror_mode": {
    "name": "ipython",
    "version": 3
   },
   "file_extension": ".py",
   "mimetype": "text/x-python",
   "name": "python",
   "nbconvert_exporter": "python",
   "pygments_lexer": "ipython3",
   "version": "3.8.6"
  }
 },
 "nbformat": 4,
 "nbformat_minor": 5
}
