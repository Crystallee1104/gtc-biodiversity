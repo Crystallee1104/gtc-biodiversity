{
 "cells": [
  {
   "cell_type": "markdown",
   "id": "median-sleeve",
   "metadata": {},
   "source": [
    "# Introduction to `GeoGraph` - 4 March 2021"
   ]
  },
  {
   "cell_type": "markdown",
   "id": "available-publicity",
   "metadata": {},
   "source": [
    "---\n",
    "\n",
    "Recent progress:\n",
    "- First results in classification (WS1) (Show video on WS1)\n",
    "  - Additional work: IR, UNet\n",
    "- Fragmentation Baseline completed (Show summary notebook)\n",
    "- Ongoing: building GeoGraph platform (WS3&4)\n",
    "  - Completed: loading & accessing, habitats, basic visualisation, identification\n",
    "  - Ongoing: timeline, advanced visualisation, metrics"
   ]
  },
  {
   "cell_type": "markdown",
   "id": "cognitive-efficiency",
   "metadata": {},
   "source": [
    "## 0. Setup and Loading package"
   ]
  },
  {
   "cell_type": "code",
   "execution_count": null,
   "id": "modern-nursery",
   "metadata": {},
   "outputs": [],
   "source": [
    "%load_ext autoreload\n",
    "%autoreload 2\n",
    "%config IPCompleter.greedy=True"
   ]
  },
  {
   "cell_type": "code",
   "execution_count": null,
   "id": "conditional-mainstream",
   "metadata": {},
   "outputs": [],
   "source": [
    "from src.data_loading import jasmin\n",
    "from src.models import geograph, visualisation\n",
    "from src.constants import PREFERRED_CRS"
   ]
  },
  {
   "cell_type": "markdown",
   "id": "satisfied-sheet",
   "metadata": {},
   "source": [
    "---\n",
    "\n",
    "## 1. Loading Data"
   ]
  },
  {
   "cell_type": "code",
   "execution_count": null,
   "id": "drawn-plane",
   "metadata": {},
   "outputs": [],
   "source": [
    "# Loading Polesia data set from shared Jasmin folder\n",
    "gdf = jasmin.get_polesia_data()\n",
    "\n",
    "# Looking at south-west corner of data\n",
    "# Choosen because are of wilderness as discussed\n",
    "minx, miny, maxx, maxy = gdf.total_bounds\n",
    "square_len = 25000\n",
    "\n",
    "gdf = gdf.cx[ minx:minx+square_len  ,  miny:miny+square_len]\n",
    "\n",
    "print(\"Number of patches in region of interest:\", len(gdf))\n",
    "gdf.head(5)"
   ]
  },
  {
   "cell_type": "markdown",
   "id": "equipped-catalog",
   "metadata": {},
   "source": [
    "---\n",
    "\n",
    "## 2. Creating `GeoGraph`"
   ]
  },
  {
   "cell_type": "code",
   "execution_count": null,
   "id": "greek-american",
   "metadata": {},
   "outputs": [],
   "source": [
    "# Building the main graph structure\n",
    "\n",
    "graph = geograph.GeoGraph(gdf, crs=PREFERRED_CRS, columns_to_rename={\"Eunis_name\":\"class_label\",\"AREA\":\"area\"})"
   ]
  },
  {
   "cell_type": "markdown",
   "id": "different-sport",
   "metadata": {},
   "source": [
    "---\n",
    "\n",
    "## 3. Creating Habitats"
   ]
  },
  {
   "cell_type": "code",
   "execution_count": null,
   "id": "prompt-distance",
   "metadata": {},
   "outputs": [],
   "source": [
    "# First selecting the classes that make up our habitat\n",
    "# We chose all classes with 'pine' in the name.\n",
    "pine_classes = [label for label in graph.df.class_label.unique() if 'pine' in label]\n",
    "pine_classes"
   ]
  },
  {
   "cell_type": "code",
   "execution_count": null,
   "id": "incoming-yugoslavia",
   "metadata": {},
   "outputs": [],
   "source": [
    "# Proposed distance from email: mobile (<100m), semi mobile (<25m) and sessile (<5m)\n",
    "graph.add_habitat('Sessile (5m) - pine', \n",
    "                  max_travel_distance=5, \n",
    "                  valid_classes=pine_classes)\n",
    "\n",
    "graph.add_habitat('Semi mobile (25m) - pine', \n",
    "                  max_travel_distance=25, \n",
    "                  valid_classes=pine_classes)\n",
    "\n",
    "graph.add_habitat('Mobile (200m) - pine',\n",
    "                  max_travel_distance=200, \n",
    "                  valid_classes=pine_classes)"
   ]
  },
  {
   "cell_type": "markdown",
   "id": "advanced-metropolitan",
   "metadata": {},
   "source": [
    "---\n",
    "\n",
    "## 4. Graph Interaction"
   ]
  },
  {
   "cell_type": "code",
   "execution_count": null,
   "id": "religious-lottery",
   "metadata": {},
   "outputs": [],
   "source": [
    "viewer = visualisation.GeoGraphViewer()\n",
    "viewer.add_graph(graph, name='Polesia data')\n",
    "viewer.add_widgets()\n",
    "viewer.add_hover_widget()\n",
    "viewer"
   ]
  },
  {
   "cell_type": "markdown",
   "id": "coral-johnston",
   "metadata": {},
   "source": [
    "### Things to consider in GeoGraphViewer\n",
    "- How `max_travel_distance` affects the number of components in habitat"
   ]
  },
  {
   "cell_type": "code",
   "execution_count": null,
   "id": "afraid-lambda",
   "metadata": {},
   "outputs": [],
   "source": []
  }
 ],
 "metadata": {
  "kernelspec": {
   "display_name": "Python 3",
   "language": "python",
   "name": "python3"
  },
  "language_info": {
   "codemirror_mode": {
    "name": "ipython",
    "version": 3
   },
   "file_extension": ".py",
   "mimetype": "text/x-python",
   "name": "python",
   "nbconvert_exporter": "python",
   "pygments_lexer": "ipython3",
   "version": "3.8.6"
  }
 },
 "nbformat": 4,
 "nbformat_minor": 5
}
