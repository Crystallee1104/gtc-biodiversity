{
 "cells": [
  {
   "cell_type": "markdown",
   "id": "unlimited-expert",
   "metadata": {},
   "source": [
    "# Demo - 4 March 2021\n",
    "\n",
    "Recent progress:\n",
    "- Built GeoGraph platform (WS3&4)\n",
    "- First results in classification (WS1)"
   ]
  },
  {
   "cell_type": "code",
   "execution_count": null,
   "id": "ultimate-relay",
   "metadata": {},
   "outputs": [],
   "source": [
    "%load_ext autoreload\n",
    "%autoreload 2\n",
    "%config IPCompleter.greedy=True"
   ]
  },
  {
   "cell_type": "code",
   "execution_count": null,
   "id": "regular-notebook",
   "metadata": {},
   "outputs": [],
   "source": [
    "from src.data_loading import test_data, jasmin\n",
    "from src.models import geograph, visualisation\n",
    "from src.constants import PREFERRED_CRS"
   ]
  },
  {
   "cell_type": "code",
   "execution_count": null,
   "id": "widespread-agreement",
   "metadata": {},
   "outputs": [],
   "source": [
    "gdf = jasmin.get_polesia_data()\n",
    "minx, miny, maxx, maxy = gdf.total_bounds\n",
    "square_len = 25000\n",
    "gdf = gdf.cx[ minx:minx+square_len  ,  miny:miny+square_len]\n",
    "gdf.head(5)"
   ]
  },
  {
   "cell_type": "code",
   "execution_count": null,
   "id": "entertaining-religious",
   "metadata": {},
   "outputs": [],
   "source": [
    "geograph = geograph.GeoGraph(gdf, crs=PREFERRED_CRS, columns_to_rename={\"Eunis_name\":\"class_label\",\"AREA\":\"area\"})"
   ]
  },
  {
   "cell_type": "code",
   "execution_count": null,
   "id": "instrumental-battery",
   "metadata": {},
   "outputs": [],
   "source": [
    "pine_classes = [label for label in geograph.df.class_label.unique() if 'pine' in label]\n",
    "pine_classes"
   ]
  },
  {
   "cell_type": "code",
   "execution_count": null,
   "id": "equivalent-blast",
   "metadata": {},
   "outputs": [],
   "source": [
    "# Proposed distance from email: mobile (<100m), semi mobile (<25m) and sessile (<5m)\n",
    "geograph.add_habitat('Sessile (5m) - pine', \n",
    "                  max_travel_distance=5, \n",
    "                  valid_classes=pine_classes)\n",
    "\n",
    "geograph.add_habitat('Semi mobile (25m) - pine', \n",
    "                  max_travel_distance=25, \n",
    "                  valid_classes=pine_classes)\n",
    "\n",
    "geograph.add_habitat('Mobile (100m) - pine',\n",
    "                  max_travel_distance=100, \n",
    "                  valid_classes=pine_classes)"
   ]
  },
  {
   "cell_type": "code",
   "execution_count": null,
   "id": "transsexual-district",
   "metadata": {},
   "outputs": [],
   "source": [
    "viewer = visualisation.GeoGraphViewer()\n",
    "viewer.add_graph(geograph, name='Polesia data')\n",
    "#viewer.add_graph(graph2, name='another_graph')\n",
    "viewer.add_widgets()\n",
    "viewer.add_hover_widget()\n",
    "viewer"
   ]
  },
  {
   "cell_type": "markdown",
   "id": "impaired-whale",
   "metadata": {},
   "source": [
    "### Things to consider in GeoGraphViewer\n",
    "- How `max_travel_distance` affects the number of components"
   ]
  },
  {
   "cell_type": "code",
   "execution_count": null,
   "id": "social-mobile",
   "metadata": {},
   "outputs": [],
   "source": [
    "viewer.log"
   ]
  },
  {
   "cell_type": "code",
   "execution_count": null,
   "id": "cathedral-idaho",
   "metadata": {},
   "outputs": [],
   "source": []
  }
 ],
 "metadata": {
  "kernelspec": {
   "display_name": "Python 3",
   "language": "python",
   "name": "python3"
  },
  "language_info": {
   "codemirror_mode": {
    "name": "ipython",
    "version": 3
   },
   "file_extension": ".py",
   "mimetype": "text/x-python",
   "name": "python",
   "nbconvert_exporter": "python",
   "pygments_lexer": "ipython3",
   "version": "3.8.6"
  }
 },
 "nbformat": 4,
 "nbformat_minor": 5
}
